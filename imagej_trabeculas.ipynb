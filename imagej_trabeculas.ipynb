{
 "cells": [
  {
   "cell_type": "code",
   "execution_count": null,
   "metadata": {},
   "outputs": [],
   "source": [
    "import os\n",
    "import os.path\n",
    "import glob\n",
    "\n",
    "import cv2\n",
    "\n",
    "import tensorflow as tf\n",
    "import tensorflow_hub as hub\n",
    "\n",
    "from tensorflow.keras import applications\n",
    "from tensorflow.keras import layers\n",
    "from tensorflow.keras import losses\n",
    "from tensorflow.keras import optimizers\n",
    "from tensorflow.keras import metrics\n",
    "from tensorflow.keras import Model\n",
    "from tensorflow.keras.applications import resnet\n",
    "\n",
    "import numpy as np\n",
    "import random as rand\n",
    "\n",
    "import matplotlib.pyplot as plt"
   ]
  },
  {
   "cell_type": "code",
   "execution_count": null,
   "metadata": {},
   "outputs": [],
   "source": [
    "# cria lista contendo os pares de imagens que serão comparadas\n",
    "pares = [['Result of Caso 1 T1-1', 'Result of Caso 1 T2-1'], \n",
    "         ['Result of Caso 2 T1-1', 'Result of Caso 2 T2-1'], \n",
    "         ['Result of Caso 3 T1-1', 'Result of Caso 3 T2-1'], \n",
    "         ['Result of Caso 4 T1-1', 'Result of Caso 4 T2-1'], \n",
    "         ['Result of Caso 5 T1-1', 'Result of Caso 5 T2-1'], \n",
    "         ['Result of Caso 6 T1-1', 'Result of Caso 6 T2-1'], \n",
    "         ['Result of Caso 7 T1-1', 'Result of Caso 7 T2-1'], \n",
    "         ['Result of Caso 8 T1-1', 'Result of Caso 8 T2-1'], \n",
    "         ['Result of Caso 9 T1-1', 'Result of Caso 9 T2-1'], \n",
    "         ['Result of Caso 10 T1-1', 'Result of Caso 10 T2-1'], \n",
    "         ['Result of Caso 11 T1-1', 'Result of Caso 11 T2-1'], \n",
    "         ['Result of Caso 12 T1-1', 'Result of Caso 12 T2-1'], \n",
    "         ['Result of Caso 13 T1-1', 'Result of Caso 13 T2-1'], \n",
    "         ['Result of Caso 14 T1-1', 'Result of Caso 14 T2-1'], \n",
    "         ['Result of Caso 15 T1-1', 'Result of Caso 15 T2-1'], \n",
    "         ['Result of Caso 16 T1-1', 'Result of Caso 16 T2-1'], \n",
    "         ['Result of Caso 17 T1-1', 'Result of Caso 17 T2-1'], \n",
    "         ['Result of Caso 18 T1-1', 'Result of Caso 18 T2-1'], \n",
    "         ['Result of Caso 19 T1-1', 'Result of Caso 19 T2-1'], \n",
    "         ['Result of Caso 20 T1-1', 'Result of Caso 20 T2-1'], \n",
    "         ['Result of Caso 21 T1-1', 'Result of Caso 21 T2-1'],\n",
    "         ['Result of Caso 22 T1-1', 'Result of Caso 22 T2-1'],\n",
    "         ['Result of Caso 23 T1-1', 'Result of Caso 23 T2-1'],\n",
    "         ['Result of Caso 24 T1-1', 'Result of Caso 24 T2-1'], \n",
    "         ['Result of Caso 25 T1-1', 'Result of Caso 25 T2-1'],\n",
    "         ['Result of Caso 26 T1-1', 'Result of Caso 26 T2-1'],\n",
    "         ['Result of Caso 27 T1-1', 'Result of Caso 27 T2-1'], \n",
    "         ['Result of Caso 28 T1-1', 'Result of Caso 28 T2-1'], \n",
    "         ['Result of Caso 29 T1-1', 'Result of Caso 29 T2-1'], \n",
    "         ['Result of Caso 30 T1-1', 'Result of Caso 30 T2-1'],\n",
    "         ['Result of Caso 31 T1-1', 'Result of Caso 31 T2-1'],\n",
    "         ['Result of Caso 32 T1-1', 'Result of Caso 32 T2-1'],\n",
    "         ['Result of Caso 33 T1-1', 'Result of Caso 33 T2-1'],\n",
    "         ['Result of Caso 34 T1-1', 'Result of Caso 34 T2-1'],\n",
    "         ['Result of Caso 35 T1-1', 'Result of Caso 35 T2-1'], \n",
    "         ['Result of Caso 36 T1-1', 'Result of Caso 36 T2-1'], \n",
    "         ['Result of Caso 37 T1-1', 'Result of Caso 37 T2-1'], \n",
    "         ['Result of Caso 38 T1-1', 'Result of Caso 38 T2-1'], \n",
    "         ['Result of Caso 39 T1-1', 'Result of Caso 39 T2-1'], \n",
    "         ['Result of Caso 40 T1-1', 'Result of Caso 40 T2-1'],\n",
    "         ['Result of Caso 41 T1-1', 'Result of Caso 41 T2-1'],\n",
    "         ['Result of Caso 42 T1-1', 'Result of Caso 42 T2-1'],\n",
    "         ['Result of Caso 43 T1-1', 'Result of Caso 43 T2-1'],\n",
    "         ['Result of Caso 44 T1-1', 'Result of Caso 44 T2-1'],\n",
    "         ['Result of Caso 45 T1-1', 'Result of Caso 45 T2-1'],\n",
    "         ['Result of Caso 46 T1-1', 'Result of Caso 46 T2-1'],\n",
    "         ['Result of Caso 47 T1-1', 'Result of Caso 47 T2-1'],\n",
    "         ['Result of Caso 48 T1-1', 'Result of Caso 48 T2-1'],\n",
    "         ['Result of Caso 49 T1-1', 'Result of Caso 49 T2-1'],\n",
    "         ['Result of Caso 50 T1-1', 'Result of Caso 50 T2-1'],\n",
    "         ['Result of Caso 51 T1-1', 'Result of Caso 51 T2-1'],\n",
    "         ['Result of Caso 52 T1-1', 'Result of Caso 52 T2-1'],\n",
    "         ['Result of Caso 53 T1-1', 'Result of Caso 53 T2-1'],\n",
    "         ['Result of Caso 54 T1-1', 'Result of Caso 54 T2-1'],\n",
    "         ['Result of Caso 55 T1-1', 'Result of Caso 55 T2-1'],\n",
    "         ['Result of Caso 56 T1-1', 'Result of Caso 56 T2-1'],\n",
    "         ['Result of Caso 57 T1-1', 'Result of Caso 57 T2-1'],\n",
    "         ['Result of Caso 58 T1-1', 'Result of Caso 58 T2-1'],\n",
    "         ['Result of Caso 59 T1-1', 'Result of Caso 59 T2-1'],\n",
    "         ['Result of Caso 60 T1-1', 'Result of Caso 60 T2-1']]\n",
    "\n",
    "pares"
   ]
  },
  {
   "cell_type": "code",
   "execution_count": null,
   "metadata": {},
   "outputs": [],
   "source": [
    "# cria listas com os caminhos das imagens, uma lista para cada formato de imagem\n",
    "imagens_gif = []\n",
    "imagens_jpg = []\n",
    "imagens_png = []\n",
    "for i in range(len(pares)):\n",
    "    imagens_gif.append(['imagens\\\\' + pares[i][0] + '.gif', 'imagens\\\\' + pares[i][1] + '.gif'])\n",
    "    imagens_jpg.append(['imagens\\\\' + pares[i][0] + '.jpg', 'imagens\\\\' + pares[i][1] + '.jpg'])\n",
    "    imagens_png.append(['imagens\\\\' + pares[i][0] + '.png', 'imagens\\\\' + pares[i][1] + '.png'])\n",
    "\n",
    "imagens_gif, imagens_jpg, imagens_png"
   ]
  },
  {
   "cell_type": "code",
   "execution_count": null,
   "metadata": {},
   "outputs": [],
   "source": [
    "# cria função para mostrar as imagens gif que serão comparadas\n",
    "def visualize(imagens):\n",
    "    fig, axes = plt.subplots(len(imagens), 2, figsize=(16, 16))\n",
    "    for i in range(len(imagens)):\n",
    "        axes[i,0].imshow(plt.imread(imagens[i][0]))\n",
    "        axes[i,0].axis(\"off\")\n",
    "        axes[i,1].imshow(plt.imread(imagens[i][1]))\n",
    "        axes[i,1].axis(\"off\")\n",
    "    plt.show()"
   ]
  },
  {
   "cell_type": "code",
   "execution_count": null,
   "metadata": {},
   "outputs": [],
   "source": [
    "# visualize(imagens_gif)"
   ]
  },
  {
   "cell_type": "code",
   "execution_count": null,
   "metadata": {},
   "outputs": [],
   "source": [
    "# visualize(imagens_jpg)"
   ]
  },
  {
   "cell_type": "code",
   "execution_count": null,
   "metadata": {},
   "outputs": [],
   "source": [
    "visualize(imagens_png)"
   ]
  },
  {
   "cell_type": "markdown",
   "metadata": {},
   "source": [
    "# Vetores\n",
    "## Similaridade por coseno"
   ]
  },
  {
   "cell_type": "code",
   "execution_count": null,
   "metadata": {},
   "outputs": [],
   "source": [
    "# Carrega a imagem, cria um tensor com tamanho W X H X 3 canais\n",
    "# Transforma o tensor original em outro com tamanho 224 x 224 x 3\n",
    "def load_image(path):\n",
    "    img = tf.io.read_file(path)\n",
    "    img = tf.io.decode_jpeg(img, channels=3)\n",
    "    img = tf.image.resize_with_pad(img, 224, 224)\n",
    "    img = tf.image.convert_image_dtype(img,tf.float32)[tf.newaxis, ...]\n",
    "    return img"
   ]
  },
  {
   "cell_type": "code",
   "execution_count": null,
   "metadata": {
    "scrolled": true
   },
   "outputs": [],
   "source": [
    "# Gera representação vetorial das imagens e salva arquivo .npz para ser lido pelo numpy\n",
    "def get_image_feature_vectors(imagens):\n",
    "    module_handle = \"https://tfhub.dev/google/imagenet/mobilenet_v2_140_224/feature_vector/4\"\n",
    "    module = hub.load(module_handle)\n",
    "    for i in range(len(imagens)):\n",
    "        img0 = imagens[i][0]\n",
    "        img1 = imagens[i][1]\n",
    "        \n",
    "        if os.path.exists(img0 + \".npz\") == False:\n",
    "            print(imagens[i][0])\n",
    "            img = load_image(imagens[i][0])\n",
    "\n",
    "            features = module(img)\n",
    "            feature_set = np.squeeze(features)\n",
    "\n",
    "            outfile_dir = os.path.dirname(imagens[i][1])\n",
    "            outfile_name = os.path.basename(imagens[i][0]) + \".npz\"\n",
    "            out_path = os.path.join(outfile_dir, outfile_name)\n",
    "\n",
    "            np.savetxt(out_path, feature_set, delimiter=',')\n",
    "\n",
    "        if os.path.exists(img1 + \".npz\") == False:\n",
    "            print(imagens[i][1])\n",
    "            img = load_image(imagens[i][1])\n",
    "\n",
    "            features = module(img)\n",
    "            feature_set = np.squeeze(features)\n",
    "\n",
    "            outfile_dir = os.path.dirname(imagens[i][1])\n",
    "            outfile_name = os.path.basename(imagens[i][1]) + \".npz\"\n",
    "            out_path = os.path.join(outfile_dir, outfile_name)\n",
    "\n",
    "            np.savetxt(out_path, feature_set, delimiter=',')\n",
    "\n",
    "# get_image_feature_vectors(imagens_gif)\n",
    "# get_image_feature_vectors(imagens_jpg)\n",
    "get_image_feature_vectors(imagens_png)"
   ]
  },
  {
   "cell_type": "code",
   "execution_count": null,
   "metadata": {},
   "outputs": [],
   "source": [
    "from numpy import dot\n",
    "from numpy.linalg import norm\n",
    "\n",
    "def cosine_similarity(vet_1, vet_2):\n",
    "  cos_sim = dot(vet_1, vet_2) / (norm(vet_1) * norm(vet_2))\n",
    "  return cos_sim"
   ]
  },
  {
   "cell_type": "code",
   "execution_count": null,
   "metadata": {},
   "outputs": [],
   "source": [
    "def check_similarity(imagens):\n",
    "    for i in range(len(imagens)):\n",
    "        img0 = imagens[i][0]\n",
    "        img1 = imagens[i][1]\n",
    "        file_vector_0 = np.loadtxt(img0 + \".npz\")\n",
    "        file_vector_1 = np.loadtxt(img1 + \".npz\")\n",
    "        print(img0)\n",
    "        print(img1)\n",
    "        print(cosine_similarity(file_vector_0, file_vector_1))"
   ]
  },
  {
   "cell_type": "code",
   "execution_count": null,
   "metadata": {},
   "outputs": [],
   "source": [
    "# check_similarity(imagens_gif)"
   ]
  },
  {
   "cell_type": "code",
   "execution_count": null,
   "metadata": {},
   "outputs": [],
   "source": [
    "# check_similarity(imagens_jpg)"
   ]
  },
  {
   "cell_type": "code",
   "execution_count": null,
   "metadata": {},
   "outputs": [],
   "source": [
    "check_similarity(imagens_png)"
   ]
  },
  {
   "cell_type": "markdown",
   "metadata": {},
   "source": [
    "# Randomização"
   ]
  },
  {
   "cell_type": "code",
   "execution_count": null,
   "metadata": {},
   "outputs": [],
   "source": [
    "def check_random_similarity(imagens):\n",
    "    for i in range(len(imagens)):\n",
    "        img0 = imagens[i][0]\n",
    "        for j in range(len(imagens)):\n",
    "            if j == i:\n",
    "                continue\n",
    "            img1 = imagens[j][1]\n",
    "            file_vector_0 = np.loadtxt(img0 + \".npz\")\n",
    "            file_vector_1 = np.loadtxt(img1 + \".npz\")\n",
    "            print(img0)\n",
    "            print(img1)\n",
    "            print(cosine_similarity(file_vector_0, file_vector_1))"
   ]
  },
  {
   "cell_type": "code",
   "execution_count": null,
   "metadata": {},
   "outputs": [],
   "source": [
    "check_random_similarity(imagens_png)"
   ]
  },
  {
   "cell_type": "code",
   "execution_count": null,
   "metadata": {},
   "outputs": [],
   "source": []
  }
 ],
 "metadata": {
  "kernelspec": {
   "display_name": "Python 3 (ipykernel)",
   "language": "python",
   "name": "python3"
  },
  "language_info": {
   "codemirror_mode": {
    "name": "ipython",
    "version": 3
   },
   "file_extension": ".py",
   "mimetype": "text/x-python",
   "name": "python",
   "nbconvert_exporter": "python",
   "pygments_lexer": "ipython3",
   "version": "3.9.12"
  }
 },
 "nbformat": 4,
 "nbformat_minor": 4
}
